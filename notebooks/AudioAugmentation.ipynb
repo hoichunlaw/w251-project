{
 "cells": [
  {
   "cell_type": "markdown",
   "metadata": {},
   "source": [
    "## Data Augmentation"
   ]
  },
  {
   "cell_type": "code",
   "execution_count": 1,
   "metadata": {
    "scrolled": true
   },
   "outputs": [
    {
     "name": "stdout",
     "output_type": "stream",
     "text": [
      "Reading package lists... Done\n",
      "Building dependency tree       \n",
      "Reading state information... Done\n",
      "ffmpeg is already the newest version (7:3.4.6-0ubuntu0.18.04.1).\n",
      "0 upgraded, 0 newly installed, 0 to remove and 50 not upgraded.\n",
      "Requirement already satisfied: numba==0.48 in /usr/local/lib/python3.6/dist-packages (0.48.0)\n",
      "Requirement already satisfied: numpy>=1.15 in /usr/local/lib/python3.6/dist-packages (from numba==0.48) (1.18.4)\n",
      "Requirement already satisfied: llvmlite<0.32.0,>=0.31.0dev0 in /usr/local/lib/python3.6/dist-packages (from numba==0.48) (0.31.0)\n",
      "Requirement already satisfied: setuptools in /usr/local/lib/python3.6/dist-packages (from numba==0.48) (46.1.3)\n",
      "Requirement already satisfied: audiomentations in /usr/local/lib/python3.6/dist-packages (0.10.0)\n",
      "Requirement already satisfied: librosa<=0.7.2,>=0.6.1 in /usr/local/lib/python3.6/dist-packages (from audiomentations) (0.7.2)\n",
      "Requirement already satisfied: numpy>=1.13.0 in /usr/local/lib/python3.6/dist-packages (from audiomentations) (1.18.4)\n",
      "Requirement already satisfied: scipy<2,>=1.0.0 in /usr/local/lib/python3.6/dist-packages (from audiomentations) (1.4.1)\n",
      "Requirement already satisfied: numba>=0.43.0 in /usr/local/lib/python3.6/dist-packages (from librosa<=0.7.2,>=0.6.1->audiomentations) (0.48.0)\n",
      "Requirement already satisfied: scikit-learn!=0.19.0,>=0.14.0 in /usr/local/lib/python3.6/dist-packages (from librosa<=0.7.2,>=0.6.1->audiomentations) (0.23.1)\n",
      "Requirement already satisfied: resampy>=0.2.2 in /usr/local/lib/python3.6/dist-packages (from librosa<=0.7.2,>=0.6.1->audiomentations) (0.2.2)\n",
      "Requirement already satisfied: joblib>=0.12 in /usr/local/lib/python3.6/dist-packages (from librosa<=0.7.2,>=0.6.1->audiomentations) (0.16.0)\n",
      "Requirement already satisfied: audioread>=2.0.0 in /usr/local/lib/python3.6/dist-packages (from librosa<=0.7.2,>=0.6.1->audiomentations) (2.1.8)\n",
      "Requirement already satisfied: soundfile>=0.9.0 in /usr/local/lib/python3.6/dist-packages (from librosa<=0.7.2,>=0.6.1->audiomentations) (0.10.3.post1)\n",
      "Requirement already satisfied: six>=1.3 in /usr/local/lib/python3.6/dist-packages (from librosa<=0.7.2,>=0.6.1->audiomentations) (1.14.0)\n",
      "Requirement already satisfied: decorator>=3.0.0 in /usr/local/lib/python3.6/dist-packages (from librosa<=0.7.2,>=0.6.1->audiomentations) (4.4.2)\n",
      "Requirement already satisfied: setuptools in /usr/local/lib/python3.6/dist-packages (from numba>=0.43.0->librosa<=0.7.2,>=0.6.1->audiomentations) (46.1.3)\n",
      "Requirement already satisfied: llvmlite<0.32.0,>=0.31.0dev0 in /usr/local/lib/python3.6/dist-packages (from numba>=0.43.0->librosa<=0.7.2,>=0.6.1->audiomentations) (0.31.0)\n",
      "Requirement already satisfied: threadpoolctl>=2.0.0 in /usr/local/lib/python3.6/dist-packages (from scikit-learn!=0.19.0,>=0.14.0->librosa<=0.7.2,>=0.6.1->audiomentations) (2.1.0)\n",
      "Requirement already satisfied: cffi>=1.0 in /usr/local/lib/python3.6/dist-packages (from soundfile>=0.9.0->librosa<=0.7.2,>=0.6.1->audiomentations) (1.14.0)\n",
      "Requirement already satisfied: pycparser in /usr/local/lib/python3.6/dist-packages (from cffi>=1.0->soundfile>=0.9.0->librosa<=0.7.2,>=0.6.1->audiomentations) (2.20)\n",
      "Requirement already satisfied: pydub in /usr/local/lib/python3.6/dist-packages (0.24.1)\n"
     ]
    }
   ],
   "source": [
    "### Install needed libraries\n",
    "!apt-get install ffmpeg\n",
    "!pip3 install numba==0.48\n",
    "!pip3 install audiomentations\n",
    "!pip3 install pydub"
   ]
  },
  {
   "cell_type": "code",
   "execution_count": 2,
   "metadata": {
    "scrolled": false
   },
   "outputs": [],
   "source": [
    "import numpy as np\n",
    "import pydub\n",
    "import os\n",
    "import re\n",
    "from tqdm import tqdm\n",
    "from audiomentations import Compose, AddGaussianNoise, TimeStretch, PitchShift, Shift\n",
    "import multiprocessing as mp\n",
    "\n"
   ]
  },
  {
   "cell_type": "code",
   "execution_count": 3,
   "metadata": {},
   "outputs": [],
   "source": [
    "##########################################################\n",
    "####  mp3 read and write methods. Credit to Stackoverflow\n",
    "####  user Basj for the starting point for these \n",
    "####  methods in his answer to:\n",
    "####  https://stackoverflow.com/questions/53633177/how-to-read-a-mp3-audio-file-into-a-numpy-array-save-a-numpy-array-to-mp3?noredirect=1&lq=1\n",
    "####\n",
    "####  The calling function passes a filename to\n",
    "####  be read or written\n",
    "####\n",
    "####  Note the normalization - MP3s are rarely anything\n",
    "####  other than 16 bit (signed 15 bit number), but there\n",
    "####  is a faint chance this wouldn't work.\n",
    "##########################################################\n",
    "\n",
    "def mp3_read(filename, normalized=False):\n",
    "    \"\"\"Read mp3 file to numpy array\"\"\"\n",
    "    with open(filename, \"rb\") as f:\n",
    "        a = pydub.AudioSegment.from_mp3(f)\n",
    "        y = np.array(a.get_array_of_samples()).astype('float64')\n",
    "        if a.channels == 2:\n",
    "            y = y.reshape((-1, 2))\n",
    "            \n",
    "        if normalized:\n",
    "            return a.frame_rate, np.float32(y) / 2**15\n",
    "        else:\n",
    "            return a.frame_rate, y\n",
    "    f.close()\n",
    "\n",
    "    \n",
    "def mp3_write(filename, sr, x, normalized=False):\n",
    "    \"\"\"Write numpy array to mp3 file\"\"\"\n",
    "    with open(filename, \"wb\") as f:\n",
    "        channels = 2 if (x.ndim == 2 and x.shape[1] == 2) else 1\n",
    "        if normalized:  # normalized array - each item should be a float in [-1, 1)\n",
    "            y = np.int16(x * 2 ** 15)\n",
    "        else:\n",
    "            y = np.int16(x)\n",
    "        clip = pydub.AudioSegment(y.tobytes(), frame_rate=sr, sample_width=2, channels=channels)\n",
    "        clip.export(f, format=\"mp3\", bitrate=f\"{sr * 2**16}\")\n",
    "    f.close\n"
   ]
  },
  {
   "cell_type": "code",
   "execution_count": 4,
   "metadata": {},
   "outputs": [
    {
     "name": "stdout",
     "output_type": "stream",
     "text": [
      "48000\n",
      "-22853.0\n",
      "(1223424,)\n",
      "float64\n"
     ]
    }
   ],
   "source": [
    "sample_rate, y = mp3_read(\"data/birdsong-recognition/train_audio/aldfly/XC134874.mp3\")\n",
    "print(sample_rate)\n",
    "print(y.min())\n",
    "print(y.shape)\n",
    "print(y.dtype)"
   ]
  },
  {
   "cell_type": "code",
   "execution_count": 5,
   "metadata": {},
   "outputs": [],
   "source": [
    "\n",
    "def augment(source_file,dest_file,augmentation):\n",
    "    \"\"\"\n",
    "    augment() - used for the multiprocessing\n",
    "    later on to accelerate the creation of all the\n",
    "    augmentations as fast as possible\n",
    "    \n",
    "    source_file:  path and filename of source sample\n",
    "    dest_file:    path and filename of output sample\n",
    "    augmentation: an instance of audiomentations.Compose\n",
    "                  containing the augmentation(s)    \n",
    "    \n",
    "    If passed a stereo file, it will create two mono files\n",
    "    from the two channels. If the passed file does not exist,\n",
    "    then we look for it in the stereo subdirectory. If it\n",
    "    does exist, it gets moved there after the split.\n",
    "    \"\"\"\n",
    "\n",
    "    print(f\"source_file: {source_file}\")\n",
    "#    print(f\"dest_file: {dest_file}\")\n",
    "\n",
    "    source_file0 = f\"{source_file[:-4]}.0{source_file[-4:]}\"\n",
    "    source_file1 = f\"{source_file[:-4]}.1{source_file[-4:]}\"\n",
    "    dest_file0 = f\"{dest_file[:-4]}.0{dest_file[-4:]}\"\n",
    "    dest_file1 = f\"{dest_file[:-4]}.1{dest_file[-4:]}\"\n",
    "    \n",
    "#    print(f\"source_file0: {source_file0}\")\n",
    "#    print(f\"dest_file0: {dest_file0}\")\n",
    "#    print(f\"source_file1: {source_file1}\")\n",
    "#    print(f\"dest_file1: {dest_file1}\")\n",
    "\n",
    "\n",
    "    if( os.path.isfile(source_file0) and os.path.isfile(source_file1) and not(os.path.isfile(source_file))):\n",
    "        # the stereo split has already been done, so augment each of \n",
    "        # the files in turn then exit\n",
    "        print(\"File has already been split into mono files\")\n",
    "        augment(source_file0,dest_file0,augmentation)\n",
    "        augment(source_file1,dest_file1,augmentation)\n",
    "\n",
    "    else:\n",
    "        # The file is either mono already or not yet split\n",
    "        # Read information from the mp3 file\n",
    "        sample_rate, chirp = mp3_read(source_file)\n",
    "\n",
    "#        print(sample_rate, chirp.shape, chirp.dtype)\n",
    "\n",
    "        # If the chirp file is in stereo (two column array)\n",
    "        # then create two mono files from the two channels\n",
    "        # and run the augmentation on each of them.\n",
    "\n",
    "        if (len(chirp.shape) == 2 and chirp.shape[1] == 2):\n",
    "            print(\"Recording is in stereo, splitting into two mono files\")\n",
    "\n",
    "            # write the split mono files\n",
    "            mp3_write(source_file0, sample_rate, chirp[:,0], normalized=False)\n",
    "            mp3_write(source_file1, sample_rate, chirp[:,1], normalized=False)\n",
    "\n",
    "            # run augmentation on each\n",
    "            augment(source_file0,dest_file0,augmentation)\n",
    "            augment(source_file1,dest_file1,augmentation)          \n",
    "            \n",
    "            # move the stereo version of the file to a new location\n",
    "            print(f\"moving {source_file} to {os.path.dirname(source_file)}/stereo/{os.path.basename(source_file)}\")\n",
    "            os.rename(source_file, f\"{os.path.dirname(source_file)}/stereo/{os.path.basename(source_file)}\")\n",
    "         \n",
    "        else:\n",
    "            # file is mono, and we can process directly\n",
    "            print(\"file is already in mono\")\n",
    "            new_chirp = augmentation(chirp, sample_rate=sample_rate) \n",
    "\n",
    "            print(new_chirp.shape)\n",
    "\n",
    "            # Write out the new chirp audio to an mp3\n",
    "            mp3_write(dest_file, sample_rate, new_chirp, normalized=False)\n"
   ]
  },
  {
   "cell_type": "code",
   "execution_count": 6,
   "metadata": {},
   "outputs": [],
   "source": [
    "# Flag which transformations will be run\n",
    "\n",
    "TimeShift      = False\n",
    "FrequencyShift = False\n",
    "Stretch        = False\n",
    "Noise          = True\n"
   ]
  },
  {
   "cell_type": "code",
   "execution_count": 7,
   "metadata": {},
   "outputs": [],
   "source": [
    "###########################################################\n",
    "###  Process a single directory of bird sounds\n",
    "###########################################################\n",
    "\n",
    "def augment_bird(bird):\n",
    "        \n",
    "        print(f\"Creating augmented samples for {bird}\")\n",
    "        \n",
    "        input_dir = os.path.join(\"data/birdsong-recognition/train_audio/\", bird)\n",
    "\n",
    "        \n",
    "        # only enhance files that start with X - the generated files start with A\n",
    "        for chirp in tqdm([f for f in os.listdir(input_dir) if re.match(r'X.*\\.mp3', f)]):\n",
    "\n",
    "#            print(f\"chirp: {chirp}\")\n",
    "#            print(f\"input_dir: {input_dir}\")\n",
    "#            print(f\"chirp: {chirp}\")\n",
    "            \n",
    "            chirp_file = os.path.join(input_dir, chirp)\n",
    "\n",
    "            if TimeShift:\n",
    "                # Augmentation 1 - random time shift + or - up to 0.5s\n",
    "                augmentation = Compose([Shift(min_fraction=-0.5, max_fraction=0.5, p=0.5)])\n",
    "                dest_file =  os.path.join(input_dir, f\"A.{chirp[:-4]}.ts0.5{chirp[-4:]}\")\n",
    "                augment(chirp_file, dest_file, augmentation)\n",
    "\n",
    "            if FrequencyShift:\n",
    "                # Augmentation 2 - random frequency shift up or down by up to 2 semitones\n",
    "                augmentation = Compose([PitchShift(min_semitones=-2, max_semitones=2, p=0.5)])\n",
    "                dest_file =  os.path.join(input_dir, f\"A.{chirp[:-4]}.fs2{chirp[-4:]}\")\n",
    "                augment(chirp_file, dest_file, augmentation)\n",
    "\n",
    "            if Stretch:\n",
    "                # Augmentation 3 - random time expansion / contraction up to 20%\n",
    "                augmentation = Compose([TimeStretch(min_rate=0.8, max_rate=1.2, p=0.5)])\n",
    "                dest_file =  os.path.join(input_dir, f\"A.{chirp[:-4]}.ex20{chirp[-4:]}\")\n",
    "                augment(chirp_file, dest_file, augmentation)\n",
    "\n",
    "            if Noise:\n",
    "                for noise_level in [ 0.03, 0.06, 0.12. 0.24 ]:\n",
    "                    # Augmentation 4 - add gaussian noise between 0.001 and the specified level\n",
    "                    augmentation = Compose([AddGaussianNoise(min_amplitude=0.001, max_amplitude=noise_level, p=0.5)])\n",
    "                    dest_file =  os.path.join(input_dir, f\"A.{chirp[:-4]}.gn{int(noise_level * 100)}{chirp[-4:]}\")\n",
    "                    augment(chirp_file, dest_file, augmentation)\n",
    "                                  \n",
    "            \n",
    "        print(f\"Augmentation complete for {os.path.basename(input_dir)}\")"
   ]
  },
  {
   "cell_type": "code",
   "execution_count": 8,
   "metadata": {
    "scrolled": false
   },
   "outputs": [
    {
     "name": "stderr",
     "output_type": "stream",
     "text": [
      "\r",
      "  0%|          | 0/145 [00:00<?, ?it/s]"
     ]
    },
    {
     "name": "stdout",
     "output_type": "stream",
     "text": [
      "Creating augmented samples for aldfly\n",
      "source_file: data/birdsong-recognition/train_audio/aldfly/XC135460.0.mp3\n",
      "file is already in mono\n",
      "(2002176,)\n"
     ]
    },
    {
     "name": "stderr",
     "output_type": "stream",
     "text": [
      "\r",
      "  1%|          | 1/145 [00:00<01:10,  2.05it/s]"
     ]
    },
    {
     "name": "stdout",
     "output_type": "stream",
     "text": [
      "source_file: data/birdsong-recognition/train_audio/aldfly/XC142065.0.mp3\n",
      "file is already in mono\n",
      "(854784,)\n"
     ]
    },
    {
     "name": "stderr",
     "output_type": "stream",
     "text": [
      "\r",
      "  1%|▏         | 2/145 [00:00<01:02,  2.30it/s]"
     ]
    },
    {
     "name": "stdout",
     "output_type": "stream",
     "text": [
      "source_file: data/birdsong-recognition/train_audio/aldfly/XC317112.0.mp3\n",
      "file is already in mono\n",
      "(11769984,)\n"
     ]
    },
    {
     "name": "stderr",
     "output_type": "stream",
     "text": [
      "\r",
      "  2%|▏         | 3/145 [00:02<02:10,  1.09it/s]"
     ]
    },
    {
     "name": "stdout",
     "output_type": "stream",
     "text": [
      "source_file: data/birdsong-recognition/train_audio/aldfly/XC317112.1.mp3\n",
      "file is already in mono\n",
      "(11769984,)\n"
     ]
    },
    {
     "name": "stderr",
     "output_type": "stream",
     "text": [
      "\r",
      "  3%|▎         | 4/145 [00:04<02:29,  1.06s/it]"
     ]
    },
    {
     "name": "stdout",
     "output_type": "stream",
     "text": [
      "source_file: data/birdsong-recognition/train_audio/aldfly/XC178485.0.mp3\n",
      "file is already in mono\n",
      "(1375488,)\n"
     ]
    },
    {
     "name": "stderr",
     "output_type": "stream",
     "text": [
      "\r",
      "  3%|▎         | 5/145 [00:04<02:02,  1.14it/s]"
     ]
    },
    {
     "name": "stdout",
     "output_type": "stream",
     "text": [
      "source_file: data/birdsong-recognition/train_audio/aldfly/XC283162.1.mp3\n",
      "file is already in mono\n",
      "(1585152,)\n"
     ]
    },
    {
     "name": "stderr",
     "output_type": "stream",
     "text": [
      "\r",
      "  4%|▍         | 6/145 [00:05<01:43,  1.34it/s]"
     ]
    },
    {
     "name": "stdout",
     "output_type": "stream",
     "text": [
      "source_file: data/birdsong-recognition/train_audio/aldfly/XC302253.1.mp3\n",
      "file is already in mono\n",
      "(2831616,)\n"
     ]
    },
    {
     "name": "stderr",
     "output_type": "stream",
     "text": [
      "\r",
      "  5%|▍         | 7/145 [00:05<01:44,  1.32it/s]"
     ]
    },
    {
     "name": "stdout",
     "output_type": "stream",
     "text": [
      "source_file: data/birdsong-recognition/train_audio/aldfly/XC154449.mp3\n",
      "file is already in mono\n",
      "(1162368,)\n"
     ]
    },
    {
     "name": "stderr",
     "output_type": "stream",
     "text": [
      "\r",
      "  6%|▌         | 8/145 [00:06<01:26,  1.58it/s]"
     ]
    },
    {
     "name": "stdout",
     "output_type": "stream",
     "text": [
      "source_file: data/birdsong-recognition/train_audio/aldfly/XC414551.1.mp3\n",
      "file is already in mono\n",
      "(1222272,)\n"
     ]
    },
    {
     "name": "stderr",
     "output_type": "stream",
     "text": [
      "\r",
      "  6%|▌         | 9/145 [00:06<01:15,  1.79it/s]"
     ]
    },
    {
     "name": "stdout",
     "output_type": "stream",
     "text": [
      "source_file: data/birdsong-recognition/train_audio/aldfly/XC189268.mp3\n",
      "file is already in mono\n",
      "(888192,)\n"
     ]
    },
    {
     "name": "stderr",
     "output_type": "stream",
     "text": [
      "\r",
      "  7%|▋         | 10/145 [00:06<01:05,  2.05it/s]"
     ]
    },
    {
     "name": "stdout",
     "output_type": "stream",
     "text": [
      "source_file: data/birdsong-recognition/train_audio/aldfly/XC420402.0.mp3\n",
      "file is already in mono\n",
      "(1101531,)\n"
     ]
    },
    {
     "name": "stderr",
     "output_type": "stream",
     "text": [
      "\r",
      "  8%|▊         | 11/145 [00:07<01:01,  2.17it/s]"
     ]
    },
    {
     "name": "stdout",
     "output_type": "stream",
     "text": [
      "source_file: data/birdsong-recognition/train_audio/aldfly/XC244458.0.mp3\n",
      "file is already in mono\n",
      "(3686400,)\n"
     ]
    },
    {
     "name": "stderr",
     "output_type": "stream",
     "text": [
      "\r",
      "  8%|▊         | 12/145 [00:08<01:14,  1.77it/s]"
     ]
    },
    {
     "name": "stdout",
     "output_type": "stream",
     "text": [
      "source_file: data/birdsong-recognition/train_audio/aldfly/XC317903.1.mp3\n",
      "file is already in mono\n",
      "(531072,)\n"
     ]
    },
    {
     "name": "stderr",
     "output_type": "stream",
     "text": [
      "\r",
      "  9%|▉         | 13/145 [00:08<01:01,  2.16it/s]"
     ]
    },
    {
     "name": "stdout",
     "output_type": "stream",
     "text": [
      "source_file: data/birdsong-recognition/train_audio/aldfly/XC140298.1.mp3\n",
      "file is already in mono\n",
      "(1376764,)\n"
     ]
    },
    {
     "name": "stderr",
     "output_type": "stream",
     "text": [
      "\r",
      " 10%|▉         | 14/145 [00:08<01:00,  2.17it/s]"
     ]
    },
    {
     "name": "stdout",
     "output_type": "stream",
     "text": [
      "source_file: data/birdsong-recognition/train_audio/aldfly/XC406251.0.mp3\n",
      "file is already in mono\n",
      "(2196864,)\n"
     ]
    },
    {
     "name": "stderr",
     "output_type": "stream",
     "text": [
      "\r",
      " 10%|█         | 15/145 [00:09<00:59,  2.18it/s]"
     ]
    },
    {
     "name": "stdout",
     "output_type": "stream",
     "text": [
      "source_file: data/birdsong-recognition/train_audio/aldfly/XC189045.mp3\n",
      "file is already in mono\n",
      "(3065472,)\n"
     ]
    },
    {
     "name": "stderr",
     "output_type": "stream",
     "text": [
      "\r",
      " 11%|█         | 16/145 [00:10<01:12,  1.77it/s]"
     ]
    },
    {
     "name": "stdout",
     "output_type": "stream",
     "text": [
      "source_file: data/birdsong-recognition/train_audio/aldfly/XC194088.0.mp3\n",
      "file is already in mono\n",
      "(5125248,)\n"
     ]
    },
    {
     "name": "stderr",
     "output_type": "stream",
     "text": [
      "\r",
      " 12%|█▏        | 17/145 [00:11<01:29,  1.43it/s]"
     ]
    },
    {
     "name": "stdout",
     "output_type": "stream",
     "text": [
      "source_file: data/birdsong-recognition/train_audio/aldfly/XC178481.1.mp3\n",
      "file is already in mono\n",
      "(762624,)\n"
     ]
    },
    {
     "name": "stderr",
     "output_type": "stream",
     "text": [
      "\r",
      " 12%|█▏        | 18/145 [00:11<01:14,  1.71it/s]"
     ]
    },
    {
     "name": "stdout",
     "output_type": "stream",
     "text": [
      "source_file: data/birdsong-recognition/train_audio/aldfly/XC137570.1.mp3\n",
      "file is already in mono\n",
      "(1157760,)\n"
     ]
    },
    {
     "name": "stderr",
     "output_type": "stream",
     "text": [
      "\r",
      " 13%|█▎        | 19/145 [00:11<01:05,  1.93it/s]"
     ]
    },
    {
     "name": "stdout",
     "output_type": "stream",
     "text": [
      "source_file: data/birdsong-recognition/train_audio/aldfly/XC189043.mp3\n",
      "file is already in mono\n",
      "(1880064,)\n"
     ]
    },
    {
     "name": "stderr",
     "output_type": "stream",
     "text": [
      "\r",
      " 14%|█▍        | 20/145 [00:12<01:06,  1.88it/s]"
     ]
    },
    {
     "name": "stdout",
     "output_type": "stream",
     "text": [
      "source_file: data/birdsong-recognition/train_audio/aldfly/XC189265.mp3\n",
      "file is already in mono\n",
      "(6243840,)\n"
     ]
    },
    {
     "name": "stderr",
     "output_type": "stream",
     "text": [
      "\r",
      " 14%|█▍        | 21/145 [00:13<01:41,  1.23it/s]"
     ]
    },
    {
     "name": "stdout",
     "output_type": "stream",
     "text": [
      "source_file: data/birdsong-recognition/train_audio/aldfly/XC189267.mp3\n",
      "file is already in mono\n",
      "(2619648,)\n"
     ]
    },
    {
     "name": "stderr",
     "output_type": "stream",
     "text": [
      "\r",
      " 15%|█▌        | 22/145 [00:14<01:36,  1.28it/s]"
     ]
    },
    {
     "name": "stdout",
     "output_type": "stream",
     "text": [
      "source_file: data/birdsong-recognition/train_audio/aldfly/XC334685.1.mp3\n",
      "file is already in mono\n",
      "(3103488,)\n"
     ]
    },
    {
     "name": "stderr",
     "output_type": "stream",
     "text": [
      "\r",
      " 16%|█▌        | 23/145 [00:15<01:32,  1.32it/s]"
     ]
    },
    {
     "name": "stdout",
     "output_type": "stream",
     "text": [
      "source_file: data/birdsong-recognition/train_audio/aldfly/XC244459.0.mp3\n",
      "file is already in mono\n",
      "(1463040,)\n"
     ]
    },
    {
     "name": "stderr",
     "output_type": "stream",
     "text": [
      "\r",
      " 17%|█▋        | 24/145 [00:15<01:21,  1.49it/s]"
     ]
    },
    {
     "name": "stdout",
     "output_type": "stream",
     "text": [
      "source_file: data/birdsong-recognition/train_audio/aldfly/XC142329.1.mp3\n",
      "file is already in mono\n",
      "(734976,)\n"
     ]
    },
    {
     "name": "stderr",
     "output_type": "stream",
     "text": [
      "\r",
      " 17%|█▋        | 25/145 [00:16<01:07,  1.78it/s]"
     ]
    },
    {
     "name": "stdout",
     "output_type": "stream",
     "text": [
      "source_file: data/birdsong-recognition/train_audio/aldfly/XC264715.mp3\n",
      "file is already in mono\n",
      "(497664,)\n"
     ]
    },
    {
     "name": "stderr",
     "output_type": "stream",
     "text": [
      "\r",
      " 18%|█▊        | 26/145 [00:16<00:56,  2.12it/s]"
     ]
    },
    {
     "name": "stdout",
     "output_type": "stream",
     "text": [
      "source_file: data/birdsong-recognition/train_audio/aldfly/XC318899.mp3\n",
      "file is already in mono\n",
      "(655488,)\n"
     ]
    },
    {
     "name": "stderr",
     "output_type": "stream",
     "text": [
      "\r",
      " 19%|█▊        | 27/145 [00:16<00:49,  2.40it/s]"
     ]
    },
    {
     "name": "stdout",
     "output_type": "stream",
     "text": [
      "source_file: data/birdsong-recognition/train_audio/aldfly/XC178480.1.mp3\n",
      "file is already in mono\n",
      "(612864,)\n"
     ]
    },
    {
     "name": "stderr",
     "output_type": "stream",
     "text": [
      "\r",
      " 19%|█▉        | 28/145 [00:16<00:45,  2.60it/s]"
     ]
    },
    {
     "name": "stdout",
     "output_type": "stream",
     "text": [
      "source_file: data/birdsong-recognition/train_audio/aldfly/XC189592.mp3\n",
      "file is already in mono\n",
      "(752256,)\n"
     ]
    },
    {
     "name": "stderr",
     "output_type": "stream",
     "text": [
      "\r",
      " 20%|██        | 29/145 [00:17<00:41,  2.77it/s]"
     ]
    },
    {
     "name": "stdout",
     "output_type": "stream",
     "text": [
      "source_file: data/birdsong-recognition/train_audio/aldfly/XC194087.0.mp3\n",
      "file is already in mono\n",
      "(3089664,)\n"
     ]
    },
    {
     "name": "stderr",
     "output_type": "stream",
     "text": [
      "\r",
      " 21%|██        | 30/145 [00:18<00:57,  2.01it/s]"
     ]
    },
    {
     "name": "stdout",
     "output_type": "stream",
     "text": [
      "source_file: data/birdsong-recognition/train_audio/aldfly/XC370826.mp3\n",
      "file is already in mono\n",
      "(4562878,)\n"
     ]
    },
    {
     "name": "stderr",
     "output_type": "stream",
     "text": [
      "\r",
      " 21%|██▏       | 31/145 [00:18<01:12,  1.57it/s]"
     ]
    },
    {
     "name": "stdout",
     "output_type": "stream",
     "text": [
      "source_file: data/birdsong-recognition/train_audio/aldfly/XC479504.0.mp3\n",
      "file is already in mono\n",
      "(4333824,)\n"
     ]
    },
    {
     "name": "stderr",
     "output_type": "stream",
     "text": [
      "\r",
      " 22%|██▏       | 32/145 [00:19<01:23,  1.36it/s]"
     ]
    },
    {
     "name": "stdout",
     "output_type": "stream",
     "text": [
      "source_file: data/birdsong-recognition/train_audio/aldfly/XC189590.mp3\n",
      "file is already in mono\n",
      "(6588288,)\n"
     ]
    },
    {
     "name": "stderr",
     "output_type": "stream",
     "text": [
      "\r",
      " 23%|██▎       | 33/145 [00:21<01:42,  1.10it/s]"
     ]
    },
    {
     "name": "stdout",
     "output_type": "stream",
     "text": [
      "source_file: data/birdsong-recognition/train_audio/aldfly/XC179600.mp3\n",
      "file is already in mono\n",
      "(3496320,)\n"
     ]
    },
    {
     "name": "stderr",
     "output_type": "stream",
     "text": [
      "\r",
      " 23%|██▎       | 34/145 [00:21<01:31,  1.21it/s]"
     ]
    },
    {
     "name": "stdout",
     "output_type": "stream",
     "text": [
      "source_file: data/birdsong-recognition/train_audio/aldfly/XC193116.mp3\n",
      "file is already in mono\n",
      "(3325824,)\n"
     ]
    },
    {
     "name": "stderr",
     "output_type": "stream",
     "text": [
      "\r",
      " 24%|██▍       | 35/145 [00:22<01:27,  1.26it/s]"
     ]
    },
    {
     "name": "stdout",
     "output_type": "stream",
     "text": [
      "source_file: data/birdsong-recognition/train_audio/aldfly/XC189044.mp3\n",
      "file is already in mono\n",
      "(5735808,)\n"
     ]
    },
    {
     "name": "stderr",
     "output_type": "stream",
     "text": [
      "\r",
      " 25%|██▍       | 36/145 [00:23<01:39,  1.09it/s]"
     ]
    },
    {
     "name": "stdout",
     "output_type": "stream",
     "text": [
      "source_file: data/birdsong-recognition/train_audio/aldfly/XC330449.1.mp3\n",
      "file is already in mono\n",
      "(7880832,)\n"
     ]
    },
    {
     "name": "stderr",
     "output_type": "stream",
     "text": [
      "\r",
      " 26%|██▌       | 37/145 [00:25<02:03,  1.15s/it]"
     ]
    },
    {
     "name": "stdout",
     "output_type": "stream",
     "text": [
      "source_file: data/birdsong-recognition/train_audio/aldfly/XC144675.0.mp3\n",
      "file is already in mono\n",
      "(3724416,)\n"
     ]
    },
    {
     "name": "stderr",
     "output_type": "stream",
     "text": [
      "\r",
      " 26%|██▌       | 38/145 [00:26<01:59,  1.11s/it]"
     ]
    },
    {
     "name": "stdout",
     "output_type": "stream",
     "text": [
      "source_file: data/birdsong-recognition/train_audio/aldfly/XC135883.0.mp3\n",
      "file is already in mono\n",
      "(3141504,)\n"
     ]
    },
    {
     "name": "stderr",
     "output_type": "stream",
     "text": [
      "\r",
      " 27%|██▋       | 39/145 [00:27<01:44,  1.01it/s]"
     ]
    },
    {
     "name": "stdout",
     "output_type": "stream",
     "text": [
      "source_file: data/birdsong-recognition/train_audio/aldfly/XC479504.1.mp3\n",
      "file is already in mono\n",
      "(4333824,)\n"
     ]
    },
    {
     "name": "stderr",
     "output_type": "stream",
     "text": [
      "\r",
      " 28%|██▊       | 40/145 [00:28<01:39,  1.06it/s]"
     ]
    },
    {
     "name": "stdout",
     "output_type": "stream",
     "text": [
      "source_file: data/birdsong-recognition/train_audio/aldfly/XC241646.1.mp3\n",
      "file is already in mono\n",
      "(1031040,)\n"
     ]
    },
    {
     "name": "stderr",
     "output_type": "stream",
     "text": [
      "\r",
      " 28%|██▊       | 41/145 [00:28<01:18,  1.33it/s]"
     ]
    },
    {
     "name": "stdout",
     "output_type": "stream",
     "text": [
      "source_file: data/birdsong-recognition/train_audio/aldfly/XC135454.1.mp3\n",
      "file is already in mono\n",
      "(1601280,)\n"
     ]
    },
    {
     "name": "stderr",
     "output_type": "stream",
     "text": [
      "\r",
      " 29%|██▉       | 42/145 [00:28<01:07,  1.52it/s]"
     ]
    },
    {
     "name": "stdout",
     "output_type": "stream",
     "text": [
      "source_file: data/birdsong-recognition/train_audio/aldfly/XC245645.1.mp3\n",
      "file is already in mono\n",
      "(826870,)\n"
     ]
    },
    {
     "name": "stderr",
     "output_type": "stream",
     "text": [
      "\r",
      " 30%|██▉       | 43/145 [00:29<00:55,  1.83it/s]"
     ]
    },
    {
     "name": "stdout",
     "output_type": "stream",
     "text": [
      "source_file: data/birdsong-recognition/train_audio/aldfly/XC144672.0.mp3\n",
      "file is already in mono\n",
      "(13921920,)\n"
     ]
    },
    {
     "name": "stderr",
     "output_type": "stream",
     "text": [
      "\r",
      " 30%|███       | 44/145 [00:32<02:22,  1.41s/it]"
     ]
    },
    {
     "name": "stdout",
     "output_type": "stream",
     "text": [
      "source_file: data/birdsong-recognition/train_audio/aldfly/XC181484.mp3\n",
      "file is already in mono\n",
      "(1127808,)\n"
     ]
    },
    {
     "name": "stderr",
     "output_type": "stream",
     "text": [
      "\r",
      " 31%|███       | 45/145 [00:32<01:47,  1.07s/it]"
     ]
    },
    {
     "name": "stdout",
     "output_type": "stream",
     "text": [
      "source_file: data/birdsong-recognition/train_audio/aldfly/XC135455.1.mp3\n",
      "file is already in mono\n",
      "(1730304,)\n"
     ]
    },
    {
     "name": "stderr",
     "output_type": "stream",
     "text": [
      "\r",
      " 32%|███▏      | 46/145 [00:33<01:29,  1.11it/s]"
     ]
    },
    {
     "name": "stdout",
     "output_type": "stream",
     "text": [
      "source_file: data/birdsong-recognition/train_audio/aldfly/XC144672.1.mp3\n",
      "file is already in mono\n",
      "(13921920,)\n"
     ]
    },
    {
     "name": "stderr",
     "output_type": "stream",
     "text": [
      "\r",
      " 32%|███▏      | 47/145 [00:36<02:40,  1.63s/it]"
     ]
    },
    {
     "name": "stdout",
     "output_type": "stream",
     "text": [
      "source_file: data/birdsong-recognition/train_audio/aldfly/XC323488.0.mp3\n",
      "file is already in mono\n",
      "(4607978,)\n"
     ]
    },
    {
     "name": "stderr",
     "output_type": "stream",
     "text": [
      "\r",
      " 33%|███▎      | 48/145 [00:37<02:09,  1.33s/it]"
     ]
    },
    {
     "name": "stdout",
     "output_type": "stream",
     "text": [
      "source_file: data/birdsong-recognition/train_audio/aldfly/XC167791.mp3\n",
      "file is already in mono\n",
      "(2717568,)\n"
     ]
    },
    {
     "name": "stderr",
     "output_type": "stream",
     "text": [
      "\r",
      " 34%|███▍      | 49/145 [00:37<01:42,  1.07s/it]"
     ]
    },
    {
     "name": "stdout",
     "output_type": "stream",
     "text": [
      "source_file: data/birdsong-recognition/train_audio/aldfly/XC253455.0.mp3\n",
      "file is already in mono\n",
      "(2738304,)\n"
     ]
    },
    {
     "name": "stderr",
     "output_type": "stream",
     "text": [
      "\r",
      " 34%|███▍      | 50/145 [00:38<01:29,  1.07it/s]"
     ]
    },
    {
     "name": "stdout",
     "output_type": "stream",
     "text": [
      "source_file: data/birdsong-recognition/train_audio/aldfly/XC414551.0.mp3\n",
      "file is already in mono\n",
      "(1222272,)\n"
     ]
    },
    {
     "name": "stderr",
     "output_type": "stream",
     "text": [
      "\r",
      " 35%|███▌      | 51/145 [00:38<01:12,  1.30it/s]"
     ]
    },
    {
     "name": "stdout",
     "output_type": "stream",
     "text": [
      "source_file: data/birdsong-recognition/train_audio/aldfly/XC189263.mp3\n",
      "file is already in mono\n",
      "(2648448,)\n"
     ]
    },
    {
     "name": "stderr",
     "output_type": "stream",
     "text": [
      "\r",
      " 36%|███▌      | 52/145 [00:39<01:08,  1.36it/s]"
     ]
    },
    {
     "name": "stdout",
     "output_type": "stream",
     "text": [
      "source_file: data/birdsong-recognition/train_audio/aldfly/XC194088.1.mp3\n",
      "file is already in mono\n",
      "(5125248,)\n"
     ]
    },
    {
     "name": "stderr",
     "output_type": "stream",
     "text": [
      "\r",
      " 37%|███▋      | 53/145 [00:40<01:20,  1.15it/s]"
     ]
    },
    {
     "name": "stdout",
     "output_type": "stream",
     "text": [
      "source_file: data/birdsong-recognition/train_audio/aldfly/XC244459.1.mp3\n",
      "file is already in mono\n",
      "(1463040,)\n"
     ]
    },
    {
     "name": "stderr",
     "output_type": "stream",
     "text": [
      "\r",
      " 37%|███▋      | 54/145 [00:41<01:07,  1.36it/s]"
     ]
    },
    {
     "name": "stdout",
     "output_type": "stream",
     "text": [
      "source_file: data/birdsong-recognition/train_audio/aldfly/XC78890.0.mp3\n",
      "file is already in mono\n",
      "(440832,)\n"
     ]
    },
    {
     "name": "stderr",
     "output_type": "stream",
     "text": [
      "\r",
      " 38%|███▊      | 55/145 [00:41<00:53,  1.68it/s]"
     ]
    },
    {
     "name": "stdout",
     "output_type": "stream",
     "text": [
      "source_file: data/birdsong-recognition/train_audio/aldfly/XC135456.0.mp3\n",
      "file is already in mono\n",
      "(1481472,)\n"
     ]
    },
    {
     "name": "stderr",
     "output_type": "stream",
     "text": [
      "\r",
      " 39%|███▊      | 56/145 [00:41<00:49,  1.80it/s]"
     ]
    },
    {
     "name": "stdout",
     "output_type": "stream",
     "text": [
      "source_file: data/birdsong-recognition/train_audio/aldfly/XC134874.mp3\n",
      "file is already in mono\n",
      "(1223424,)\n"
     ]
    },
    {
     "name": "stderr",
     "output_type": "stream",
     "text": [
      "\r",
      " 39%|███▉      | 57/145 [00:42<00:42,  2.09it/s]"
     ]
    },
    {
     "name": "stdout",
     "output_type": "stream",
     "text": [
      "source_file: data/birdsong-recognition/train_audio/aldfly/XC135457.1.mp3\n",
      "file is already in mono\n",
      "(1588608,)\n"
     ]
    },
    {
     "name": "stderr",
     "output_type": "stream",
     "text": [
      "\r",
      " 40%|████      | 58/145 [00:42<00:40,  2.16it/s]"
     ]
    },
    {
     "name": "stdout",
     "output_type": "stream",
     "text": [
      "source_file: data/birdsong-recognition/train_audio/aldfly/XC406251.1.mp3\n",
      "file is already in mono\n",
      "(2196864,)\n"
     ]
    },
    {
     "name": "stderr",
     "output_type": "stream",
     "text": [
      " 41%|████▏     | 60/145 [00:43<00:30,  2.76it/s]"
     ]
    },
    {
     "name": "stdout",
     "output_type": "stream",
     "text": [
      "source_file: data/birdsong-recognition/train_audio/aldfly/XC373885.mp3\n",
      "file is already in mono\n",
      "(43036,)\n",
      "source_file: data/birdsong-recognition/train_audio/aldfly/XC418144.0.mp3\n",
      "file is already in mono\n",
      "(2267507,)\n"
     ]
    },
    {
     "name": "stderr",
     "output_type": "stream",
     "text": [
      "\r",
      " 42%|████▏     | 61/145 [00:43<00:35,  2.36it/s]"
     ]
    },
    {
     "name": "stdout",
     "output_type": "stream",
     "text": [
      "source_file: data/birdsong-recognition/train_audio/aldfly/XC179417.1.mp3\n",
      "file is already in mono\n",
      "(1704960,)\n"
     ]
    },
    {
     "name": "stderr",
     "output_type": "stream",
     "text": [
      "\r",
      " 43%|████▎     | 62/145 [00:44<00:36,  2.28it/s]"
     ]
    },
    {
     "name": "stdout",
     "output_type": "stream",
     "text": [
      "source_file: data/birdsong-recognition/train_audio/aldfly/XC189266.mp3\n",
      "file is already in mono\n",
      "(8319744,)\n"
     ]
    },
    {
     "name": "stderr",
     "output_type": "stream",
     "text": [
      "\r",
      " 43%|████▎     | 63/145 [00:45<01:02,  1.31it/s]"
     ]
    },
    {
     "name": "stdout",
     "output_type": "stream",
     "text": [
      "source_file: data/birdsong-recognition/train_audio/aldfly/XC167789.mp3\n",
      "file is already in mono\n",
      "(2824704,)\n"
     ]
    },
    {
     "name": "stderr",
     "output_type": "stream",
     "text": [
      "\r",
      " 44%|████▍     | 64/145 [00:46<00:54,  1.48it/s]"
     ]
    },
    {
     "name": "stdout",
     "output_type": "stream",
     "text": [
      "source_file: data/birdsong-recognition/train_audio/aldfly/XC142065.1.mp3\n",
      "file is already in mono\n",
      "(854784,)\n"
     ]
    },
    {
     "name": "stderr",
     "output_type": "stream",
     "text": [
      "\r",
      " 45%|████▍     | 65/145 [00:46<00:45,  1.76it/s]"
     ]
    },
    {
     "name": "stdout",
     "output_type": "stream",
     "text": [
      "source_file: data/birdsong-recognition/train_audio/aldfly/XC189264.mp3\n",
      "file is already in mono\n",
      "(3442176,)\n"
     ]
    },
    {
     "name": "stderr",
     "output_type": "stream",
     "text": [
      "\r",
      " 46%|████▌     | 66/145 [00:47<00:50,  1.57it/s]"
     ]
    },
    {
     "name": "stdout",
     "output_type": "stream",
     "text": [
      "source_file: data/birdsong-recognition/train_audio/aldfly/XC479502.1.mp3\n",
      "file is already in mono\n",
      "(1910016,)\n"
     ]
    },
    {
     "name": "stderr",
     "output_type": "stream",
     "text": [
      "\r",
      " 46%|████▌     | 67/145 [00:47<00:45,  1.70it/s]"
     ]
    },
    {
     "name": "stdout",
     "output_type": "stream",
     "text": [
      "source_file: data/birdsong-recognition/train_audio/aldfly/XC381871.mp3\n",
      "file is already in mono\n",
      "(1020414,)\n"
     ]
    },
    {
     "name": "stderr",
     "output_type": "stream",
     "text": [
      "\r",
      " 47%|████▋     | 68/145 [00:47<00:39,  1.97it/s]"
     ]
    },
    {
     "name": "stdout",
     "output_type": "stream",
     "text": [
      "source_file: data/birdsong-recognition/train_audio/aldfly/XC331564.1.mp3\n",
      "file is already in mono\n",
      "(2859264,)\n"
     ]
    },
    {
     "name": "stderr",
     "output_type": "stream",
     "text": [
      "\r",
      " 48%|████▊     | 69/145 [00:48<00:42,  1.81it/s]"
     ]
    },
    {
     "name": "stdout",
     "output_type": "stream",
     "text": [
      "source_file: data/birdsong-recognition/train_audio/aldfly/XC188434.mp3\n",
      "file is already in mono\n",
      "(1838592,)\n"
     ]
    },
    {
     "name": "stderr",
     "output_type": "stream",
     "text": [
      "\r",
      " 48%|████▊     | 70/145 [00:49<00:41,  1.81it/s]"
     ]
    },
    {
     "name": "stdout",
     "output_type": "stream",
     "text": [
      "source_file: data/birdsong-recognition/train_audio/aldfly/XC157462.mp3\n",
      "file is already in mono\n",
      "(1001088,)\n"
     ]
    },
    {
     "name": "stderr",
     "output_type": "stream",
     "text": [
      "\r",
      " 49%|████▉     | 71/145 [00:49<00:36,  2.04it/s]"
     ]
    },
    {
     "name": "stdout",
     "output_type": "stream",
     "text": [
      "source_file: data/birdsong-recognition/train_audio/aldfly/XC180091.mp3\n",
      "file is already in mono\n",
      "(3801600,)\n"
     ]
    },
    {
     "name": "stderr",
     "output_type": "stream",
     "text": [
      "\r",
      " 50%|████▉     | 72/145 [00:50<00:41,  1.74it/s]"
     ]
    },
    {
     "name": "stdout",
     "output_type": "stream",
     "text": [
      "source_file: data/birdsong-recognition/train_audio/aldfly/XC371412.mp3\n",
      "file is already in mono\n",
      "(635904,)\n"
     ]
    },
    {
     "name": "stderr",
     "output_type": "stream",
     "text": [
      "\r",
      " 50%|█████     | 73/145 [00:50<00:34,  2.08it/s]"
     ]
    },
    {
     "name": "stdout",
     "output_type": "stream",
     "text": [
      "source_file: data/birdsong-recognition/train_audio/aldfly/XC302253.0.mp3\n",
      "file is already in mono\n",
      "(2831616,)\n"
     ]
    },
    {
     "name": "stderr",
     "output_type": "stream",
     "text": [
      "\r",
      " 51%|█████     | 74/145 [00:51<00:38,  1.85it/s]"
     ]
    },
    {
     "name": "stdout",
     "output_type": "stream",
     "text": [
      "source_file: data/birdsong-recognition/train_audio/aldfly/XC420909.mp3\n",
      "file is already in mono\n",
      "(1494144,)\n"
     ]
    },
    {
     "name": "stderr",
     "output_type": "stream",
     "text": [
      "\r",
      " 52%|█████▏    | 75/145 [00:51<00:34,  2.05it/s]"
     ]
    },
    {
     "name": "stdout",
     "output_type": "stream",
     "text": [
      "source_file: data/birdsong-recognition/train_audio/aldfly/XC142067.1.mp3\n",
      "file is already in mono\n",
      "(1282176,)\n"
     ]
    },
    {
     "name": "stderr",
     "output_type": "stream",
     "text": [
      "\r",
      " 52%|█████▏    | 76/145 [00:52<00:32,  2.10it/s]"
     ]
    },
    {
     "name": "stdout",
     "output_type": "stream",
     "text": [
      "source_file: data/birdsong-recognition/train_audio/aldfly/XC135883.1.mp3\n",
      "file is already in mono\n",
      "(3141504,)\n"
     ]
    },
    {
     "name": "stderr",
     "output_type": "stream",
     "text": [
      "\r",
      " 53%|█████▎    | 77/145 [00:52<00:38,  1.77it/s]"
     ]
    },
    {
     "name": "stdout",
     "output_type": "stream",
     "text": [
      "source_file: data/birdsong-recognition/train_audio/aldfly/XC188813.mp3\n",
      "file is already in mono\n",
      "(5315328,)\n"
     ]
    },
    {
     "name": "stderr",
     "output_type": "stream",
     "text": [
      "\r",
      " 54%|█████▍    | 78/145 [00:53<00:47,  1.41it/s]"
     ]
    },
    {
     "name": "stdout",
     "output_type": "stream",
     "text": [
      "source_file: data/birdsong-recognition/train_audio/aldfly/XC135459.0.mp3\n",
      "file is already in mono\n",
      "(343296,)\n"
     ]
    },
    {
     "name": "stderr",
     "output_type": "stream",
     "text": [
      "\r",
      " 54%|█████▍    | 79/145 [00:54<00:37,  1.76it/s]"
     ]
    },
    {
     "name": "stdout",
     "output_type": "stream",
     "text": [
      "source_file: data/birdsong-recognition/train_audio/aldfly/XC247801.mp3\n",
      "file is already in mono\n",
      "(2237184,)\n"
     ]
    },
    {
     "name": "stderr",
     "output_type": "stream",
     "text": [
      "\r",
      " 55%|█████▌    | 80/145 [00:54<00:36,  1.77it/s]"
     ]
    },
    {
     "name": "stdout",
     "output_type": "stream",
     "text": [
      "source_file: data/birdsong-recognition/train_audio/aldfly/XC374638.mp3\n",
      "file is already in mono\n",
      "(1489198,)\n"
     ]
    },
    {
     "name": "stderr",
     "output_type": "stream",
     "text": [
      "\r",
      " 56%|█████▌    | 81/145 [00:55<00:34,  1.87it/s]"
     ]
    },
    {
     "name": "stdout",
     "output_type": "stream",
     "text": [
      "source_file: data/birdsong-recognition/train_audio/aldfly/XC154310.mp3\n",
      "file is already in mono\n",
      "(6539904,)\n"
     ]
    },
    {
     "name": "stderr",
     "output_type": "stream",
     "text": [
      "\r",
      " 57%|█████▋    | 82/145 [00:55<00:39,  1.60it/s]"
     ]
    },
    {
     "name": "stdout",
     "output_type": "stream",
     "text": [
      "source_file: data/birdsong-recognition/train_audio/aldfly/XC188377.mp3\n",
      "file is already in mono\n",
      "(5630976,)\n"
     ]
    },
    {
     "name": "stderr",
     "output_type": "stream",
     "text": [
      "\r",
      " 57%|█████▋    | 83/145 [00:57<00:51,  1.20it/s]"
     ]
    },
    {
     "name": "stdout",
     "output_type": "stream",
     "text": [
      "source_file: data/birdsong-recognition/train_audio/aldfly/XC420402.1.mp3\n",
      "file is already in mono\n",
      "(1101531,)\n"
     ]
    },
    {
     "name": "stderr",
     "output_type": "stream",
     "text": [
      "\r",
      " 58%|█████▊    | 84/145 [00:57<00:42,  1.43it/s]"
     ]
    },
    {
     "name": "stdout",
     "output_type": "stream",
     "text": [
      "source_file: data/birdsong-recognition/train_audio/aldfly/XC195542.mp3\n",
      "file is already in mono\n",
      "(3144960,)\n"
     ]
    },
    {
     "name": "stderr",
     "output_type": "stream",
     "text": [
      "\r",
      " 59%|█████▊    | 85/145 [00:58<00:43,  1.39it/s]"
     ]
    },
    {
     "name": "stdout",
     "output_type": "stream",
     "text": [
      "source_file: data/birdsong-recognition/train_audio/aldfly/XC189589.mp3\n",
      "file is already in mono\n",
      "(3618432,)\n"
     ]
    },
    {
     "name": "stderr",
     "output_type": "stream",
     "text": [
      "\r",
      " 59%|█████▉    | 86/145 [00:59<00:45,  1.29it/s]"
     ]
    },
    {
     "name": "stdout",
     "output_type": "stream",
     "text": [
      "source_file: data/birdsong-recognition/train_audio/aldfly/XC135459.1.mp3\n",
      "file is already in mono\n",
      "(343296,)\n"
     ]
    },
    {
     "name": "stderr",
     "output_type": "stream",
     "text": [
      "\r",
      " 60%|██████    | 87/145 [00:59<00:35,  1.64it/s]"
     ]
    },
    {
     "name": "stdout",
     "output_type": "stream",
     "text": [
      "source_file: data/birdsong-recognition/train_audio/aldfly/XC142068.0.mp3\n",
      "file is already in mono\n",
      "(612864,)\n"
     ]
    },
    {
     "name": "stderr",
     "output_type": "stream",
     "text": [
      "\r",
      " 61%|██████    | 88/145 [00:59<00:29,  1.93it/s]"
     ]
    },
    {
     "name": "stdout",
     "output_type": "stream",
     "text": [
      "source_file: data/birdsong-recognition/train_audio/aldfly/XC78890.1.mp3\n",
      "file is already in mono\n",
      "(440832,)\n"
     ]
    },
    {
     "name": "stderr",
     "output_type": "stream",
     "text": [
      "\r",
      " 61%|██████▏   | 89/145 [01:00<00:24,  2.27it/s]"
     ]
    },
    {
     "name": "stdout",
     "output_type": "stream",
     "text": [
      "source_file: data/birdsong-recognition/train_audio/aldfly/XC142066.0.mp3\n",
      "file is already in mono\n",
      "(438912,)\n"
     ]
    },
    {
     "name": "stderr",
     "output_type": "stream",
     "text": [
      "\r",
      " 62%|██████▏   | 90/145 [01:00<00:21,  2.58it/s]"
     ]
    },
    {
     "name": "stdout",
     "output_type": "stream",
     "text": [
      "source_file: data/birdsong-recognition/train_audio/aldfly/XC182735.0.mp3\n",
      "file is already in mono\n",
      "(4544640,)\n"
     ]
    },
    {
     "name": "stderr",
     "output_type": "stream",
     "text": [
      "\r",
      " 63%|██████▎   | 91/145 [01:01<00:31,  1.73it/s]"
     ]
    },
    {
     "name": "stdout",
     "output_type": "stream",
     "text": [
      "source_file: data/birdsong-recognition/train_audio/aldfly/XC244458.1.mp3\n",
      "file is already in mono\n",
      "(3686400,)\n"
     ]
    },
    {
     "name": "stderr",
     "output_type": "stream",
     "text": [
      "\r",
      " 63%|██████▎   | 92/145 [01:02<00:35,  1.48it/s]"
     ]
    },
    {
     "name": "stdout",
     "output_type": "stream",
     "text": [
      "source_file: data/birdsong-recognition/train_audio/aldfly/XC139577.mp3\n",
      "file is already in mono\n",
      "(12941568,)\n"
     ]
    },
    {
     "name": "stderr",
     "output_type": "stream",
     "text": [
      "\r",
      " 64%|██████▍   | 93/145 [01:03<00:48,  1.08it/s]"
     ]
    },
    {
     "name": "stdout",
     "output_type": "stream",
     "text": [
      "source_file: data/birdsong-recognition/train_audio/aldfly/XC142068.1.mp3\n",
      "file is already in mono\n",
      "(612864,)\n"
     ]
    },
    {
     "name": "stderr",
     "output_type": "stream",
     "text": [
      "\r",
      " 65%|██████▍   | 94/145 [01:04<00:37,  1.36it/s]"
     ]
    },
    {
     "name": "stdout",
     "output_type": "stream",
     "text": [
      "source_file: data/birdsong-recognition/train_audio/aldfly/XC269063.mp3\n",
      "file is already in mono\n",
      "(3252096,)\n"
     ]
    },
    {
     "name": "stderr",
     "output_type": "stream",
     "text": [
      "\r",
      " 66%|██████▌   | 95/145 [01:04<00:36,  1.39it/s]"
     ]
    },
    {
     "name": "stdout",
     "output_type": "stream",
     "text": [
      "source_file: data/birdsong-recognition/train_audio/aldfly/XC374636.mp3\n",
      "file is already in mono\n",
      "(468864,)\n"
     ]
    },
    {
     "name": "stderr",
     "output_type": "stream",
     "text": [
      "\r",
      " 66%|██████▌   | 96/145 [01:05<00:28,  1.72it/s]"
     ]
    },
    {
     "name": "stdout",
     "output_type": "stream",
     "text": [
      "source_file: data/birdsong-recognition/train_audio/aldfly/XC195541.mp3\n",
      "file is already in mono\n",
      "(2946816,)\n"
     ]
    },
    {
     "name": "stderr",
     "output_type": "stream",
     "text": [
      "\r",
      " 67%|██████▋   | 97/145 [01:05<00:30,  1.59it/s]"
     ]
    },
    {
     "name": "stdout",
     "output_type": "stream",
     "text": [
      "source_file: data/birdsong-recognition/train_audio/aldfly/XC296725.mp3\n",
      "file is already in mono\n",
      "(3782016,)\n"
     ]
    },
    {
     "name": "stderr",
     "output_type": "stream",
     "text": [
      "\r",
      " 68%|██████▊   | 98/145 [01:06<00:30,  1.57it/s]"
     ]
    },
    {
     "name": "stdout",
     "output_type": "stream",
     "text": [
      "source_file: data/birdsong-recognition/train_audio/aldfly/XC16967.mp3\n",
      "file is already in mono\n",
      "(1050483,)\n"
     ]
    },
    {
     "name": "stderr",
     "output_type": "stream",
     "text": [
      "\r",
      " 68%|██████▊   | 99/145 [01:06<00:25,  1.82it/s]"
     ]
    },
    {
     "name": "stdout",
     "output_type": "stream",
     "text": [
      "source_file: data/birdsong-recognition/train_audio/aldfly/XC317903.0.mp3\n",
      "file is already in mono\n",
      "(531072,)\n"
     ]
    },
    {
     "name": "stderr",
     "output_type": "stream",
     "text": [
      "\r",
      " 69%|██████▉   | 100/145 [01:07<00:20,  2.20it/s]"
     ]
    },
    {
     "name": "stdout",
     "output_type": "stream",
     "text": [
      "source_file: data/birdsong-recognition/train_audio/aldfly/XC144675.1.mp3\n",
      "file is already in mono\n",
      "(3724416,)\n"
     ]
    },
    {
     "name": "stderr",
     "output_type": "stream",
     "text": [
      "\r",
      " 70%|██████▉   | 101/145 [01:08<00:27,  1.59it/s]"
     ]
    },
    {
     "name": "stdout",
     "output_type": "stream",
     "text": [
      "source_file: data/birdsong-recognition/train_audio/aldfly/XC323488.1.mp3\n",
      "file is already in mono\n",
      "(4607978,)\n"
     ]
    },
    {
     "name": "stderr",
     "output_type": "stream",
     "text": [
      "\r",
      " 70%|███████   | 102/145 [01:08<00:27,  1.59it/s]"
     ]
    },
    {
     "name": "stdout",
     "output_type": "stream",
     "text": [
      "source_file: data/birdsong-recognition/train_audio/aldfly/XC370932.mp3\n",
      "file is already in mono\n",
      "(234391,)\n"
     ]
    },
    {
     "name": "stderr",
     "output_type": "stream",
     "text": [
      "\r",
      " 71%|███████   | 103/145 [01:08<00:21,  1.98it/s]"
     ]
    },
    {
     "name": "stdout",
     "output_type": "stream",
     "text": [
      "source_file: data/birdsong-recognition/train_audio/aldfly/XC189262.mp3\n",
      "file is already in mono\n",
      "(1403136,)\n"
     ]
    },
    {
     "name": "stderr",
     "output_type": "stream",
     "text": [
      "\r",
      " 72%|███████▏  | 104/145 [01:09<00:19,  2.10it/s]"
     ]
    },
    {
     "name": "stdout",
     "output_type": "stream",
     "text": [
      "source_file: data/birdsong-recognition/train_audio/aldfly/XC135456.1.mp3\n",
      "file is already in mono\n",
      "(1481472,)\n"
     ]
    },
    {
     "name": "stderr",
     "output_type": "stream",
     "text": [
      "\r",
      " 72%|███████▏  | 105/145 [01:09<00:18,  2.13it/s]"
     ]
    },
    {
     "name": "stdout",
     "output_type": "stream",
     "text": [
      "source_file: data/birdsong-recognition/train_audio/aldfly/XC178485.1.mp3\n",
      "file is already in mono\n",
      "(1375488,)\n"
     ]
    },
    {
     "name": "stderr",
     "output_type": "stream",
     "text": [
      "\r",
      " 73%|███████▎  | 106/145 [01:10<00:18,  2.11it/s]"
     ]
    },
    {
     "name": "stdout",
     "output_type": "stream",
     "text": [
      "source_file: data/birdsong-recognition/train_audio/aldfly/XC253455.1.mp3\n",
      "file is already in mono\n",
      "(2738304,)\n"
     ]
    },
    {
     "name": "stderr",
     "output_type": "stream",
     "text": [
      "\r",
      " 74%|███████▍  | 107/145 [01:11<00:20,  1.82it/s]"
     ]
    },
    {
     "name": "stdout",
     "output_type": "stream",
     "text": [
      "source_file: data/birdsong-recognition/train_audio/aldfly/XC245645.0.mp3\n",
      "file is already in mono\n",
      "(826870,)\n"
     ]
    },
    {
     "name": "stderr",
     "output_type": "stream",
     "text": [
      "\r",
      " 74%|███████▍  | 108/145 [01:11<00:17,  2.13it/s]"
     ]
    },
    {
     "name": "stdout",
     "output_type": "stream",
     "text": [
      "source_file: data/birdsong-recognition/train_audio/aldfly/XC135455.0.mp3\n",
      "file is already in mono\n",
      "(1730304,)\n"
     ]
    },
    {
     "name": "stderr",
     "output_type": "stream",
     "text": [
      "\r",
      " 75%|███████▌  | 109/145 [01:11<00:16,  2.16it/s]"
     ]
    },
    {
     "name": "stdout",
     "output_type": "stream",
     "text": [
      "source_file: data/birdsong-recognition/train_audio/aldfly/XC135460.1.mp3\n",
      "file is already in mono\n",
      "(2002176,)\n"
     ]
    },
    {
     "name": "stderr",
     "output_type": "stream",
     "text": [
      "\r",
      " 76%|███████▌  | 110/145 [01:12<00:16,  2.12it/s]"
     ]
    },
    {
     "name": "stdout",
     "output_type": "stream",
     "text": [
      "source_file: data/birdsong-recognition/train_audio/aldfly/XC418144.1.mp3\n",
      "file is already in mono\n",
      "(2267507,)\n"
     ]
    },
    {
     "name": "stderr",
     "output_type": "stream",
     "text": [
      "\r",
      " 77%|███████▋  | 111/145 [01:12<00:16,  2.00it/s]"
     ]
    },
    {
     "name": "stdout",
     "output_type": "stream",
     "text": [
      "source_file: data/birdsong-recognition/train_audio/aldfly/XC182735.1.mp3\n",
      "file is already in mono\n",
      "(4544640,)\n"
     ]
    },
    {
     "name": "stderr",
     "output_type": "stream",
     "text": [
      "\r",
      " 77%|███████▋  | 112/145 [01:13<00:21,  1.54it/s]"
     ]
    },
    {
     "name": "stdout",
     "output_type": "stream",
     "text": [
      "source_file: data/birdsong-recognition/train_audio/aldfly/XC144674.1.mp3\n",
      "file is already in mono\n",
      "(2048256,)\n"
     ]
    },
    {
     "name": "stderr",
     "output_type": "stream",
     "text": [
      "\r",
      " 78%|███████▊  | 113/145 [01:14<00:20,  1.60it/s]"
     ]
    },
    {
     "name": "stdout",
     "output_type": "stream",
     "text": [
      "source_file: data/birdsong-recognition/train_audio/aldfly/XC137570.0.mp3\n",
      "file is already in mono\n",
      "(1157760,)\n"
     ]
    },
    {
     "name": "stderr",
     "output_type": "stream",
     "text": [
      "\r",
      " 79%|███████▊  | 114/145 [01:14<00:16,  1.83it/s]"
     ]
    },
    {
     "name": "stdout",
     "output_type": "stream",
     "text": [
      "source_file: data/birdsong-recognition/train_audio/aldfly/XC144674.0.mp3\n",
      "file is already in mono\n",
      "(2048256,)\n"
     ]
    },
    {
     "name": "stderr",
     "output_type": "stream",
     "text": [
      "\r",
      " 79%|███████▉  | 115/145 [01:15<00:17,  1.76it/s]"
     ]
    },
    {
     "name": "stdout",
     "output_type": "stream",
     "text": [
      "source_file: data/birdsong-recognition/train_audio/aldfly/XC31060.mp3\n",
      "file is already in mono\n",
      "(2598236,)\n"
     ]
    },
    {
     "name": "stderr",
     "output_type": "stream",
     "text": [
      "\r",
      " 80%|████████  | 116/145 [01:15<00:16,  1.81it/s]"
     ]
    },
    {
     "name": "stdout",
     "output_type": "stream",
     "text": [
      "source_file: data/birdsong-recognition/train_audio/aldfly/XC247799.mp3\n",
      "file is already in mono\n",
      "(4647168,)\n"
     ]
    },
    {
     "name": "stderr",
     "output_type": "stream",
     "text": [
      "\r",
      " 81%|████████  | 117/145 [01:16<00:18,  1.49it/s]"
     ]
    },
    {
     "name": "stdout",
     "output_type": "stream",
     "text": [
      "source_file: data/birdsong-recognition/train_audio/aldfly/XC135457.0.mp3\n",
      "file is already in mono\n",
      "(1588608,)\n"
     ]
    },
    {
     "name": "stderr",
     "output_type": "stream",
     "text": [
      "\r",
      " 81%|████████▏ | 118/145 [01:17<00:16,  1.64it/s]"
     ]
    },
    {
     "name": "stdout",
     "output_type": "stream",
     "text": [
      "source_file: data/birdsong-recognition/train_audio/aldfly/XC318444.mp3\n",
      "file is already in mono\n",
      "(1460736,)\n"
     ]
    },
    {
     "name": "stderr",
     "output_type": "stream",
     "text": [
      "\r",
      " 82%|████████▏ | 119/145 [01:17<00:13,  1.91it/s]"
     ]
    },
    {
     "name": "stdout",
     "output_type": "stream",
     "text": [
      "source_file: data/birdsong-recognition/train_audio/aldfly/XC178480.0.mp3\n",
      "file is already in mono\n",
      "(612864,)\n"
     ]
    },
    {
     "name": "stderr",
     "output_type": "stream",
     "text": [
      "\r",
      " 83%|████████▎ | 120/145 [01:17<00:11,  2.22it/s]"
     ]
    },
    {
     "name": "stdout",
     "output_type": "stream",
     "text": [
      "source_file: data/birdsong-recognition/train_audio/aldfly/XC376468.mp3\n",
      "file is already in mono\n",
      "(998562,)\n"
     ]
    },
    {
     "name": "stderr",
     "output_type": "stream",
     "text": [
      "\r",
      " 83%|████████▎ | 121/145 [01:18<00:09,  2.45it/s]"
     ]
    },
    {
     "name": "stdout",
     "output_type": "stream",
     "text": [
      "source_file: data/birdsong-recognition/train_audio/aldfly/XC142066.1.mp3\n",
      "file is already in mono\n",
      "(438912,)\n"
     ]
    },
    {
     "name": "stderr",
     "output_type": "stream",
     "text": [
      "\r",
      " 84%|████████▍ | 122/145 [01:18<00:08,  2.79it/s]"
     ]
    },
    {
     "name": "stdout",
     "output_type": "stream",
     "text": [
      "source_file: data/birdsong-recognition/train_audio/aldfly/XC189042.mp3\n",
      "file is already in mono\n",
      "(960768,)\n"
     ]
    },
    {
     "name": "stderr",
     "output_type": "stream",
     "text": [
      "\r",
      " 85%|████████▍ | 123/145 [01:18<00:07,  2.85it/s]"
     ]
    },
    {
     "name": "stdout",
     "output_type": "stream",
     "text": [
      "source_file: data/birdsong-recognition/train_audio/aldfly/XC178481.0.mp3\n",
      "file is already in mono\n",
      "(762624,)\n"
     ]
    },
    {
     "name": "stderr",
     "output_type": "stream",
     "text": [
      "\r",
      " 86%|████████▌ | 124/145 [01:19<00:07,  2.96it/s]"
     ]
    },
    {
     "name": "stdout",
     "output_type": "stream",
     "text": [
      "source_file: data/birdsong-recognition/train_audio/aldfly/XC331564.0.mp3\n",
      "file is already in mono\n",
      "(2859264,)\n"
     ]
    },
    {
     "name": "stderr",
     "output_type": "stream",
     "text": [
      "\r",
      " 86%|████████▌ | 125/145 [01:19<00:08,  2.30it/s]"
     ]
    },
    {
     "name": "stdout",
     "output_type": "stream",
     "text": [
      "source_file: data/birdsong-recognition/train_audio/aldfly/XC188432.mp3\n",
      "file is already in mono\n",
      "(989568,)\n"
     ]
    },
    {
     "name": "stderr",
     "output_type": "stream",
     "text": [
      "\r",
      " 87%|████████▋ | 126/145 [01:20<00:07,  2.41it/s]"
     ]
    },
    {
     "name": "stdout",
     "output_type": "stream",
     "text": [
      "source_file: data/birdsong-recognition/train_audio/aldfly/XC2628.mp3\n",
      "file is already in mono\n",
      "(672768,)\n"
     ]
    },
    {
     "name": "stderr",
     "output_type": "stream",
     "text": [
      "\r",
      " 88%|████████▊ | 127/145 [01:20<00:06,  2.68it/s]"
     ]
    },
    {
     "name": "stdout",
     "output_type": "stream",
     "text": [
      "source_file: data/birdsong-recognition/train_audio/aldfly/XC334685.0.mp3\n",
      "file is already in mono\n",
      "(3103488,)\n"
     ]
    },
    {
     "name": "stderr",
     "output_type": "stream",
     "text": [
      "\r",
      " 88%|████████▊ | 128/145 [01:21<00:08,  2.11it/s]"
     ]
    },
    {
     "name": "stdout",
     "output_type": "stream",
     "text": [
      "source_file: data/birdsong-recognition/train_audio/aldfly/XC241646.0.mp3\n",
      "file is already in mono\n",
      "(1031040,)\n"
     ]
    },
    {
     "name": "stderr",
     "output_type": "stream",
     "text": [
      "\r",
      " 89%|████████▉ | 129/145 [01:21<00:06,  2.41it/s]"
     ]
    },
    {
     "name": "stdout",
     "output_type": "stream",
     "text": [
      "source_file: data/birdsong-recognition/train_audio/aldfly/XC479502.0.mp3\n",
      "file is already in mono\n",
      "(1910016,)\n"
     ]
    },
    {
     "name": "stderr",
     "output_type": "stream",
     "text": [
      "\r",
      " 90%|████████▉ | 130/145 [01:21<00:06,  2.21it/s]"
     ]
    },
    {
     "name": "stdout",
     "output_type": "stream",
     "text": [
      "source_file: data/birdsong-recognition/train_audio/aldfly/XC370881.mp3\n",
      "file is already in mono\n",
      "(8540928,)\n"
     ]
    },
    {
     "name": "stderr",
     "output_type": "stream",
     "text": [
      "\r",
      " 90%|█████████ | 131/145 [01:23<00:10,  1.32it/s]"
     ]
    },
    {
     "name": "stdout",
     "output_type": "stream",
     "text": [
      "source_file: data/birdsong-recognition/train_audio/aldfly/XC142067.0.mp3\n",
      "file is already in mono\n",
      "(1282176,)\n"
     ]
    },
    {
     "name": "stderr",
     "output_type": "stream",
     "text": [
      "\r",
      " 91%|█████████ | 132/145 [01:23<00:08,  1.52it/s]"
     ]
    },
    {
     "name": "stdout",
     "output_type": "stream",
     "text": [
      "source_file: data/birdsong-recognition/train_audio/aldfly/XC294255.1.mp3\n",
      "file is already in mono\n",
      "(2270592,)\n"
     ]
    },
    {
     "name": "stderr",
     "output_type": "stream",
     "text": [
      "\r",
      " 92%|█████████▏| 133/145 [01:24<00:07,  1.53it/s]"
     ]
    },
    {
     "name": "stdout",
     "output_type": "stream",
     "text": [
      "source_file: data/birdsong-recognition/train_audio/aldfly/XC330449.0.mp3\n",
      "file is already in mono\n",
      "(7880832,)\n"
     ]
    },
    {
     "name": "stderr",
     "output_type": "stream",
     "text": [
      "\r",
      " 92%|█████████▏| 134/145 [01:26<00:10,  1.03it/s]"
     ]
    },
    {
     "name": "stdout",
     "output_type": "stream",
     "text": [
      "source_file: data/birdsong-recognition/train_audio/aldfly/XC142329.0.mp3\n",
      "file is already in mono\n",
      "(734976,)\n"
     ]
    },
    {
     "name": "stderr",
     "output_type": "stream",
     "text": [
      "\r",
      " 93%|█████████▎| 135/145 [01:26<00:07,  1.29it/s]"
     ]
    },
    {
     "name": "stdout",
     "output_type": "stream",
     "text": [
      "source_file: data/birdsong-recognition/train_audio/aldfly/XC189269.mp3\n",
      "file is already in mono\n",
      "(17046144,)\n"
     ]
    },
    {
     "name": "stderr",
     "output_type": "stream",
     "text": [
      "\r",
      " 94%|█████████▍| 136/145 [01:29<00:13,  1.52s/it]"
     ]
    },
    {
     "name": "stdout",
     "output_type": "stream",
     "text": [
      "source_file: data/birdsong-recognition/train_audio/aldfly/XC294255.0.mp3\n",
      "file is already in mono\n",
      "(2270592,)\n"
     ]
    },
    {
     "name": "stderr",
     "output_type": "stream",
     "text": [
      "\r",
      " 94%|█████████▍| 137/145 [01:30<00:10,  1.26s/it]"
     ]
    },
    {
     "name": "stdout",
     "output_type": "stream",
     "text": [
      "source_file: data/birdsong-recognition/train_audio/aldfly/XC179417.0.mp3\n",
      "file is already in mono\n",
      "(1704960,)\n"
     ]
    },
    {
     "name": "stderr",
     "output_type": "stream",
     "text": [
      "\r",
      " 95%|█████████▌| 138/145 [01:30<00:07,  1.04s/it]"
     ]
    },
    {
     "name": "stdout",
     "output_type": "stream",
     "text": [
      "source_file: data/birdsong-recognition/train_audio/aldfly/XC138639.mp3\n",
      "file is already in mono\n",
      "(2597760,)\n"
     ]
    },
    {
     "name": "stderr",
     "output_type": "stream",
     "text": [
      "\r",
      " 96%|█████████▌| 139/145 [01:31<00:05,  1.13it/s]"
     ]
    },
    {
     "name": "stdout",
     "output_type": "stream",
     "text": [
      "source_file: data/birdsong-recognition/train_audio/aldfly/XC283162.0.mp3\n",
      "file is already in mono\n",
      "(1585152,)\n"
     ]
    },
    {
     "name": "stderr",
     "output_type": "stream",
     "text": [
      "\r",
      " 97%|█████████▋| 140/145 [01:31<00:03,  1.31it/s]"
     ]
    },
    {
     "name": "stdout",
     "output_type": "stream",
     "text": [
      "source_file: data/birdsong-recognition/train_audio/aldfly/XC140298.0.mp3\n",
      "file is already in mono\n",
      "(1376764,)\n"
     ]
    },
    {
     "name": "stderr",
     "output_type": "stream",
     "text": [
      "\r",
      " 97%|█████████▋| 141/145 [01:32<00:02,  1.49it/s]"
     ]
    },
    {
     "name": "stdout",
     "output_type": "stream",
     "text": [
      "source_file: data/birdsong-recognition/train_audio/aldfly/XC194087.1.mp3\n",
      "file is already in mono\n",
      "(3089664,)\n"
     ]
    },
    {
     "name": "stderr",
     "output_type": "stream",
     "text": [
      "\r",
      " 98%|█████████▊| 142/145 [01:33<00:02,  1.46it/s]"
     ]
    },
    {
     "name": "stdout",
     "output_type": "stream",
     "text": [
      "source_file: data/birdsong-recognition/train_audio/aldfly/XC380033.mp3\n",
      "file is already in mono\n",
      "(2130048,)\n"
     ]
    },
    {
     "name": "stderr",
     "output_type": "stream",
     "text": [
      "\r",
      " 99%|█████████▊| 143/145 [01:33<00:01,  1.57it/s]"
     ]
    },
    {
     "name": "stdout",
     "output_type": "stream",
     "text": [
      "source_file: data/birdsong-recognition/train_audio/aldfly/XC135454.0.mp3\n",
      "file is already in mono\n",
      "(1601280,)\n"
     ]
    },
    {
     "name": "stderr",
     "output_type": "stream",
     "text": [
      "100%|██████████| 145/145 [01:34<00:00,  1.54it/s]"
     ]
    },
    {
     "name": "stdout",
     "output_type": "stream",
     "text": [
      "source_file: data/birdsong-recognition/train_audio/aldfly/XC319017.mp3\n",
      "file is already in mono\n",
      "(100411,)\n",
      "Augmentation complete for aldfly\n"
     ]
    },
    {
     "name": "stderr",
     "output_type": "stream",
     "text": [
      "\n"
     ]
    }
   ],
   "source": [
    "###########################################################\n",
    "### Main function\n",
    "###########################################################\n",
    "\n",
    "\n",
    "def main():\n",
    "\n",
    "    np.random.seed(1234)\n",
    "    \n",
    "    # BIRDS = os.listdir(\"data/birdsong-recognition/train_audio/\")[0:20]\n",
    "    birds = ['aldfly']\n",
    "\n",
    "    # comment out the next line and uncomment the following one if running\n",
    "    # on non-hyperthreaded CPU cores. Assigns one thread per physical core\n",
    "    # reserving one core for OS, IO, compression etc. \n",
    "    \n",
    "    threads = int((mp.cpu_count() /2) - 1)\n",
    "    # threads = int(mp.cpu_count() -1)\n",
    "\n",
    "    # Handle single-core machines\n",
    "    if (threads < 1): threads = 1\n",
    "\n",
    "#    pool = mp.Pool(threads)\n",
    "    \n",
    "#    pool.map(augment_bird, birds)\n",
    "\n",
    "    augment_bird(birds[0])\n",
    "        \n",
    "       \n",
    "\n",
    "if __name__ == \"__main__\":\n",
    "    main()\n",
    "                   \n",
    "        \n"
   ]
  }
 ],
 "metadata": {
  "kernelspec": {
   "display_name": "Python 3",
   "language": "python",
   "name": "python3"
  },
  "language_info": {
   "codemirror_mode": {
    "name": "ipython",
    "version": 3
   },
   "file_extension": ".py",
   "mimetype": "text/x-python",
   "name": "python",
   "nbconvert_exporter": "python",
   "pygments_lexer": "ipython3",
   "version": "3.6.9"
  }
 },
 "nbformat": 4,
 "nbformat_minor": 4
}
