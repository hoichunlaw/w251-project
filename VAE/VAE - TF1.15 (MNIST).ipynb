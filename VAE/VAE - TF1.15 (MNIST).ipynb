{
 "cells": [
  {
   "cell_type": "code",
   "execution_count": 3,
   "metadata": {},
   "outputs": [],
   "source": [
    "import tensorflow as tf\n",
    "from tensorflow.keras.layers import Input, Dense, Lambda, concatenate\n",
    "from tensorflow.keras.models import Model\n",
    "from tensorflow.keras.callbacks import LearningRateScheduler\n",
    "\n",
    "import numpy as np\n",
    "import pandas as pd\n",
    "import matplotlib.pyplot as plt\n",
    "\n",
    "# function to convert TF tensor to Numpy array\n",
    "def toNumpy(tf_tensor):\n",
    "    \n",
    "    session = tf.keras.backend.get_session()\n",
    "    \n",
    "    np_array = tf_tensor.eval(session=session)\n",
    "    \n",
    "    return np_array"
   ]
  },
  {
   "cell_type": "code",
   "execution_count": 20,
   "metadata": {},
   "outputs": [],
   "source": [
    "# load data\n",
    "mnist = tf.keras.datasets.mnist\n",
    "\n",
    "(x_train, y_train), (x_test, y_test) = mnist.load_data()\n",
    "x_train, x_test = x_train / 255.0, x_test / 255.0"
   ]
  },
  {
   "cell_type": "code",
   "execution_count": 24,
   "metadata": {},
   "outputs": [],
   "source": [
    "# dimension of latent vector\n",
    "n_z = 5\n",
    "\n",
    "# encoder\n",
    "inputs = Input(shape=(784,))\n",
    "h_q = Dense(512, activation='relu')(inputs)\n",
    "mu = Dense(n_z, activation='linear')(h_q)\n",
    "log_sigma_sq = Dense(n_z, activation='linear')(h_q)\n",
    "\n",
    "encoder_out = tf.keras.layers.concatenate([mu, log_sigma_sq])"
   ]
  },
  {
   "cell_type": "code",
   "execution_count": 25,
   "metadata": {},
   "outputs": [],
   "source": [
    "# sampling\n",
    "def sample_z(mu, log_sigma_sq):\n",
    "    eps = tf.random.normal(shape=tf.shape(mu))\n",
    "    return mu + tf.sqrt(tf.exp(log_sigma_sq)) * eps\n",
    "\n",
    "z = sample_z(mu, log_sigma_sq)"
   ]
  },
  {
   "cell_type": "code",
   "execution_count": 26,
   "metadata": {},
   "outputs": [],
   "source": [
    "# decoder\n",
    "decoder_hidden = Dense(512, activation='relu')\n",
    "decoder_out = Dense(784, activation='sigmoid')\n",
    "\n",
    "h_p = decoder_hidden(z)\n",
    "outputs = decoder_out(h_p)"
   ]
  },
  {
   "cell_type": "code",
   "execution_count": 27,
   "metadata": {},
   "outputs": [],
   "source": [
    "# Overall VAE model, for reconstruction and training\n",
    "vae = Model(inputs, outputs)\n",
    "\n",
    "# Encoder model, to encode input into latent variable\n",
    "# We use the mean as the output as it is the center point, the representative of the gaussian\n",
    "encoder = Model(inputs, encoder_out)\n",
    "\n",
    "# Generator model, generate new data given latent variable z\n",
    "d_in = Input(shape=(n_z,))\n",
    "d_h = decoder_hidden(d_in)\n",
    "d_out = decoder_out(d_h)\n",
    "decoder = Model(d_in, d_out)"
   ]
  },
  {
   "cell_type": "code",
   "execution_count": 28,
   "metadata": {},
   "outputs": [],
   "source": [
    "def vae_loss(y_true, y_pred):\n",
    "    \"\"\" loss = reconstruction loss + KL divergence for each data in minibatch \"\"\"\n",
    "    \n",
    "    recon_loss = -tf.reduce_sum(y_true * tf.math.log(1e-8 + y_pred) + \n",
    "                                (1-y_true) * tf.math.log(1e-8 + 1 - y_pred), 1)\n",
    "\n",
    "    kl_loss = 0.5 * tf.reduce_sum(tf.exp(log_sigma_sq) + mu**2 - 1. - log_sigma_sq, 1)\n",
    "    \n",
    "\n",
    "    return tf.reduce_mean(recon_loss + kl_loss)"
   ]
  },
  {
   "cell_type": "code",
   "execution_count": 29,
   "metadata": {},
   "outputs": [
    {
     "name": "stdout",
     "output_type": "stream",
     "text": [
      "Model: \"model_9\"\n",
      "__________________________________________________________________________________________________\n",
      "Layer (type)                    Output Shape         Param #     Connected to                     \n",
      "==================================================================================================\n",
      "input_7 (InputLayer)            [(None, 784)]        0                                            \n",
      "__________________________________________________________________________________________________\n",
      "dense_15 (Dense)                (None, 512)          401920      input_7[0][0]                    \n",
      "__________________________________________________________________________________________________\n",
      "dense_16 (Dense)                (None, 5)            2565        dense_15[0][0]                   \n",
      "__________________________________________________________________________________________________\n",
      "tf_op_layer_Shape_3 (TensorFlow [(2,)]               0           dense_16[0][0]                   \n",
      "__________________________________________________________________________________________________\n",
      "dense_17 (Dense)                (None, 5)            2565        dense_15[0][0]                   \n",
      "__________________________________________________________________________________________________\n",
      "tf_op_layer_random_normal_3/Ran [(None, 5)]          0           tf_op_layer_Shape_3[0][0]        \n",
      "__________________________________________________________________________________________________\n",
      "tf_op_layer_Exp_3 (TensorFlowOp [(None, 5)]          0           dense_17[0][0]                   \n",
      "__________________________________________________________________________________________________\n",
      "tf_op_layer_random_normal_3/mul [(None, 5)]          0           tf_op_layer_random_normal_3/Rando\n",
      "__________________________________________________________________________________________________\n",
      "tf_op_layer_Sqrt_3 (TensorFlowO [(None, 5)]          0           tf_op_layer_Exp_3[0][0]          \n",
      "__________________________________________________________________________________________________\n",
      "tf_op_layer_random_normal_3 (Te [(None, 5)]          0           tf_op_layer_random_normal_3/mul[0\n",
      "__________________________________________________________________________________________________\n",
      "tf_op_layer_mul_3 (TensorFlowOp [(None, 5)]          0           tf_op_layer_Sqrt_3[0][0]         \n",
      "                                                                 tf_op_layer_random_normal_3[0][0]\n",
      "__________________________________________________________________________________________________\n",
      "tf_op_layer_add_3 (TensorFlowOp [(None, 5)]          0           dense_16[0][0]                   \n",
      "                                                                 tf_op_layer_mul_3[0][0]          \n",
      "__________________________________________________________________________________________________\n",
      "dense_18 (Dense)                (None, 512)          3072        tf_op_layer_add_3[0][0]          \n",
      "__________________________________________________________________________________________________\n",
      "dense_19 (Dense)                (None, 784)          402192      dense_18[0][0]                   \n",
      "==================================================================================================\n",
      "Total params: 812,314\n",
      "Trainable params: 812,314\n",
      "Non-trainable params: 0\n",
      "__________________________________________________________________________________________________\n"
     ]
    }
   ],
   "source": [
    "vae.compile(optimizer='adam', loss=vae_loss)\n",
    "vae.summary()"
   ]
  },
  {
   "cell_type": "code",
   "execution_count": 30,
   "metadata": {},
   "outputs": [
    {
     "name": "stdout",
     "output_type": "stream",
     "text": [
      "Train on 60000 samples\n",
      "Epoch 1/10\n",
      "60000/60000 [==============================] - 7s 117us/sample - loss: 150.5572\n",
      "Epoch 2/10\n",
      "60000/60000 [==============================] - 7s 111us/sample - loss: 134.7406\n",
      "Epoch 3/10\n",
      "60000/60000 [==============================] - 7s 111us/sample - loss: 131.7041\n",
      "Epoch 4/10\n",
      "60000/60000 [==============================] - 7s 109us/sample - loss: 129.6094\n",
      "Epoch 5/10\n",
      "60000/60000 [==============================] - 7s 111us/sample - loss: 128.0829\n",
      "Epoch 6/10\n",
      "60000/60000 [==============================] - 7s 112us/sample - loss: 126.9098\n",
      "Epoch 7/10\n",
      "60000/60000 [==============================] - 7s 112us/sample - loss: 126.0126\n",
      "Epoch 8/10\n",
      "60000/60000 [==============================] - 7s 113us/sample - loss: 125.2460\n",
      "Epoch 9/10\n",
      "60000/60000 [==============================] - 7s 112us/sample - loss: 124.6488\n",
      "Epoch 10/10\n",
      "60000/60000 [==============================] - 7s 111us/sample - loss: 124.1110\n"
     ]
    },
    {
     "data": {
      "text/plain": [
       "<tensorflow.python.keras.callbacks.History at 0x7f9692000e90>"
      ]
     },
     "execution_count": 30,
     "metadata": {},
     "output_type": "execute_result"
    }
   ],
   "source": [
    "#tf.config.experimental_run_functions_eagerly(True)\n",
    "vae.reset_states()\n",
    "vae.fit(x_train.reshape(-1, 28*28), x_train.reshape(-1, 28*28), \n",
    "        batch_size=32, \n",
    "        epochs=10)"
   ]
  },
  {
   "cell_type": "markdown",
   "metadata": {},
   "source": [
    "### Running VAE on an image"
   ]
  },
  {
   "cell_type": "code",
   "execution_count": 41,
   "metadata": {},
   "outputs": [
    {
     "data": {
      "image/png": "[encoded data removed]",
      "text/plain": [
       "<Figure size 432x288 with 1 Axes>"
      ]
     },
     "metadata": {
      "needs_background": "light"
     },
     "output_type": "display_data"
    },
    {
     "data": {
      "image/png": "[encoded data removed]",
      "text/plain": [
       "<Figure size 432x288 with 1 Axes>"
      ]
     },
     "metadata": {
      "needs_background": "light"
     },
     "output_type": "display_data"
    }
   ],
   "source": [
    "idx = 0\n",
    "tmp = vae.predict(x_test[0:32].reshape(-1, 28*28))\n",
    "\n",
    "# true image\n",
    "plt.imshow(x_test[idx].reshape(28,28), cmap=\"gray\")\n",
    "plt.show()\n",
    "\n",
    "# VAE image\n",
    "plt.imshow(tmp[idx].reshape(28,28), cmap=\"gray\")\n",
    "plt.show()"
   ]
  },
  {
   "cell_type": "markdown",
   "metadata": {},
   "source": [
    "### Image generation"
   ]
  },
  {
   "cell_type": "code",
   "execution_count": 42,
   "metadata": {},
   "outputs": [],
   "source": [
    "# get latent distribution for each digit\n",
    "latentVecDict = {}\n",
    "for i in range(10):\n",
    "    x_train_tmp = x_train[y_train == i]\n",
    "    \n",
    "    a = encoder(x_train_tmp.reshape(-1, 28*28))\n",
    "    a = toNumpy(a)\n",
    "    \n",
    "    mean_mu = a.mean(axis=0)[0:n_z]\n",
    "    mean_log_signma_sq = a.mean(axis=0)[n_z:]\n",
    "    \n",
    "    latentVecDict[i] = {\"mu\": mean_mu, \"log_sigma_sq\": mean_log_signma_sq}"
   ]
  },
  {
   "cell_type": "code",
   "execution_count": 45,
   "metadata": {},
   "outputs": [
    {
     "data": {
      "image/png": "[encoded data removed]",
      "text/plain": [
       "<Figure size 432x288 with 1 Axes>"
      ]
     },
     "metadata": {
      "needs_background": "light"
     },
     "output_type": "display_data"
    },
    {
     "data": {
      "image/png": "[encoded data removed]",
      "text/plain": [
       "<Figure size 432x288 with 1 Axes>"
      ]
     },
     "metadata": {
      "needs_background": "light"
     },
     "output_type": "display_data"
    },
    {
     "data": {
      "image/png": "[encoded data removed]",
      "text/plain": [
       "<Figure size 432x288 with 1 Axes>"
      ]
     },
     "metadata": {
      "needs_background": "light"
     },
     "output_type": "display_data"
    },
    {
     "data": {
      "image/png": "[encoded data removed]",
      "text/plain": [
       "<Figure size 432x288 with 1 Axes>"
      ]
     },
     "metadata": {
      "needs_background": "light"
     },
     "output_type": "display_data"
    },
    {
     "data": {
      "image/png": "[encoded data removed]",
      "text/plain": [
       "<Figure size 432x288 with 1 Axes>"
      ]
     },
     "metadata": {
      "needs_background": "light"
     },
     "output_type": "display_data"
    }
   ],
   "source": [
    "# generate examples\n",
    "digit = 7\n",
    "num_example = 5\n",
    "\n",
    "RN = np.random.normal(0, 1, num_example * n_z).reshape(num_example, n_z)\n",
    "sample_latent_vec = latentVecDict[digit][\"mu\"] + np.sqrt(np.exp(latentVecDict[digit][\"log_sigma_sq\"])) * RN * 1.5\n",
    "\n",
    "decoderOutput = decoder(sample_latent_vec)\n",
    "decoderOutput = toNumpy(decoderOutput)\n",
    "\n",
    "for im in decoderOutput:\n",
    "    plt.imshow(im.reshape(28, 28), cmap=\"gray\")\n",
    "    plt.show()"
   ]
  },
  {
   "cell_type": "code",
   "execution_count": null,
   "metadata": {},
   "outputs": [],
   "source": []
  }
 ],
 "metadata": {
  "kernelspec": {
   "display_name": "Python 3.7.5 64-bit ('tensorflow_cpu': conda)",
   "language": "python",
   "name": "python37564bittensorflowcpuconda29354b1eeb6a46339c907157af122c74"
  },
  "language_info": {
   "codemirror_mode": {
    "name": "ipython",
    "version": 3
   },
   "file_extension": ".py",
   "mimetype": "text/x-python",
   "name": "python",
   "nbconvert_exporter": "python",
   "pygments_lexer": "ipython3",
   "version": "3.7.5"
  }
 },
 "nbformat": 4,
 "nbformat_minor": 2
}
